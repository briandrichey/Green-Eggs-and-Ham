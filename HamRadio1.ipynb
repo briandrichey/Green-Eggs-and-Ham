{
  "nbformat": 4,
  "nbformat_minor": 0,
  "metadata": {
    "colab": {
      "name": "HamRadio1.ipynb",
      "provenance": [],
      "include_colab_link": true
    },
    "kernelspec": {
      "name": "python3",
      "display_name": "Python 3"
    },
    "language_info": {
      "name": "python"
    }
  },
  "cells": [
    {
      "cell_type": "markdown",
      "metadata": {
        "id": "view-in-github",
        "colab_type": "text"
      },
      "source": [
        "<a href=\"https://colab.research.google.com/github/briandrichey/Green-Eggs-and-Ham/blob/main/HamRadio1.ipynb\" target=\"_parent\"><img src=\"https://colab.research.google.com/assets/colab-badge.svg\" alt=\"Open In Colab\"/></a>"
      ]
    },
    {
      "cell_type": "code",
      "metadata": {
        "id": "jP6cHDmu3fKE"
      },
      "source": [
        "from google.colab import drive\n",
        "drive.mount('/content/gdrive')\n",
        "root_path = 'gdrive/MyDrive/'; "
      ],
      "execution_count": null,
      "outputs": []
    },
    {
      "cell_type": "code",
      "metadata": {
        "id": "CQr6w_G73jp9"
      },
      "source": [
        "import pandas as pd\n",
        "#pandas_data = pd.read_csv(\"gdrive/MyDrive/ham_data.csv\", sep = \",\",names=list(range(11))) \n",
        "pandas_data = pd.read_csv(\"gdrive/MyDrive/ham_data.csv\", sep = \",\",names=['date','time','base', 'txrx', 'encoding', 'signal_strength', 'timedelay','offset','rxcall','txcall','message']) "
      ],
      "execution_count": null,
      "outputs": []
    },
    {
      "cell_type": "code",
      "metadata": {
        "colab": {
          "base_uri": "https://localhost:8080/"
        },
        "id": "TRMXvSST4FsP",
        "outputId": "c577cc80-8c5f-4f75-fd98-515b97959889"
      },
      "source": [
        "pandas_data.info()"
      ],
      "execution_count": null,
      "outputs": [
        {
          "output_type": "stream",
          "name": "stdout",
          "text": [
            "<class 'pandas.core.frame.DataFrame'>\n",
            "RangeIndex: 659914 entries, 0 to 659913\n",
            "Data columns (total 11 columns):\n",
            " #   Column           Non-Null Count   Dtype  \n",
            "---  ------           --------------   -----  \n",
            " 0   date             659914 non-null  int64  \n",
            " 1   time             659914 non-null  int64  \n",
            " 2   base             659914 non-null  float64\n",
            " 3   txrx             659914 non-null  object \n",
            " 4   encoding         659914 non-null  object \n",
            " 5   signal_strength  659914 non-null  int64  \n",
            " 6   timedelay        659914 non-null  float64\n",
            " 7   offset           659914 non-null  int64  \n",
            " 8   rxcall           659914 non-null  object \n",
            " 9   txcall           659881 non-null  object \n",
            " 10  message          655506 non-null  object \n",
            "dtypes: float64(2), int64(4), object(5)\n",
            "memory usage: 55.4+ MB\n"
          ]
        }
      ]
    },
    {
      "cell_type": "code",
      "metadata": {
        "colab": {
          "base_uri": "https://localhost:8080/",
          "height": 297
        },
        "id": "MHyoY1Vr4aNb",
        "outputId": "ed035256-936d-452f-e2c7-d0a618cb7c03"
      },
      "source": [
        "pandas_data.describe()"
      ],
      "execution_count": null,
      "outputs": [
        {
          "output_type": "execute_result",
          "data": {
            "text/html": [
              "<div>\n",
              "<style scoped>\n",
              "    .dataframe tbody tr th:only-of-type {\n",
              "        vertical-align: middle;\n",
              "    }\n",
              "\n",
              "    .dataframe tbody tr th {\n",
              "        vertical-align: top;\n",
              "    }\n",
              "\n",
              "    .dataframe thead th {\n",
              "        text-align: right;\n",
              "    }\n",
              "</style>\n",
              "<table border=\"1\" class=\"dataframe\">\n",
              "  <thead>\n",
              "    <tr style=\"text-align: right;\">\n",
              "      <th></th>\n",
              "      <th>date</th>\n",
              "      <th>time</th>\n",
              "      <th>base</th>\n",
              "      <th>signal_strength</th>\n",
              "      <th>timedelay</th>\n",
              "      <th>offset</th>\n",
              "    </tr>\n",
              "  </thead>\n",
              "  <tbody>\n",
              "    <tr>\n",
              "      <th>count</th>\n",
              "      <td>659914.000000</td>\n",
              "      <td>659914.000000</td>\n",
              "      <td>659914.000000</td>\n",
              "      <td>659914.000000</td>\n",
              "      <td>659914.000000</td>\n",
              "      <td>659914.000000</td>\n",
              "    </tr>\n",
              "    <tr>\n",
              "      <th>mean</th>\n",
              "      <td>210533.577539</td>\n",
              "      <td>197402.538488</td>\n",
              "      <td>16.992754</td>\n",
              "      <td>-7.284467</td>\n",
              "      <td>0.187027</td>\n",
              "      <td>1451.856948</td>\n",
              "    </tr>\n",
              "    <tr>\n",
              "      <th>std</th>\n",
              "      <td>70.635656</td>\n",
              "      <td>25507.488314</td>\n",
              "      <td>3.698477</td>\n",
              "      <td>9.156802</td>\n",
              "      <td>0.463300</td>\n",
              "      <td>682.661424</td>\n",
              "    </tr>\n",
              "    <tr>\n",
              "      <th>min</th>\n",
              "      <td>210422.000000</td>\n",
              "      <td>0.000000</td>\n",
              "      <td>2.223000</td>\n",
              "      <td>-24.000000</td>\n",
              "      <td>-2.600000</td>\n",
              "      <td>98.000000</td>\n",
              "    </tr>\n",
              "    <tr>\n",
              "      <th>25%</th>\n",
              "      <td>210504.000000</td>\n",
              "      <td>182330.000000</td>\n",
              "      <td>14.074000</td>\n",
              "      <td>-14.000000</td>\n",
              "      <td>0.000000</td>\n",
              "      <td>900.000000</td>\n",
              "    </tr>\n",
              "    <tr>\n",
              "      <th>50%</th>\n",
              "      <td>210519.000000</td>\n",
              "      <td>201915.000000</td>\n",
              "      <td>18.100000</td>\n",
              "      <td>-8.000000</td>\n",
              "      <td>0.200000</td>\n",
              "      <td>1430.000000</td>\n",
              "    </tr>\n",
              "    <tr>\n",
              "      <th>75%</th>\n",
              "      <td>210608.000000</td>\n",
              "      <td>214015.000000</td>\n",
              "      <td>18.100000</td>\n",
              "      <td>-1.000000</td>\n",
              "      <td>0.400000</td>\n",
              "      <td>1983.000000</td>\n",
              "    </tr>\n",
              "    <tr>\n",
              "      <th>max</th>\n",
              "      <td>210625.000000</td>\n",
              "      <td>235952.000000</td>\n",
              "      <td>50.318000</td>\n",
              "      <td>77.000000</td>\n",
              "      <td>2.500000</td>\n",
              "      <td>3633.000000</td>\n",
              "    </tr>\n",
              "  </tbody>\n",
              "</table>\n",
              "</div>"
            ],
            "text/plain": [
              "                date           time  ...      timedelay         offset\n",
              "count  659914.000000  659914.000000  ...  659914.000000  659914.000000\n",
              "mean   210533.577539  197402.538488  ...       0.187027    1451.856948\n",
              "std        70.635656   25507.488314  ...       0.463300     682.661424\n",
              "min    210422.000000       0.000000  ...      -2.600000      98.000000\n",
              "25%    210504.000000  182330.000000  ...       0.000000     900.000000\n",
              "50%    210519.000000  201915.000000  ...       0.200000    1430.000000\n",
              "75%    210608.000000  214015.000000  ...       0.400000    1983.000000\n",
              "max    210625.000000  235952.000000  ...       2.500000    3633.000000\n",
              "\n",
              "[8 rows x 6 columns]"
            ]
          },
          "metadata": {},
          "execution_count": 5
        }
      ]
    },
    {
      "cell_type": "code",
      "metadata": {
        "colab": {
          "base_uri": "https://localhost:8080/"
        },
        "id": "MdCgzxrMDJFX",
        "outputId": "d6488ba0-66ac-4dfd-f2b7-ec581d855e6c"
      },
      "source": [
        "pandas_data.iloc[0]"
      ],
      "execution_count": null,
      "outputs": [
        {
          "output_type": "execute_result",
          "data": {
            "text/plain": [
              "date               210422\n",
              "time               164145\n",
              "base                7.074\n",
              "txrx                   Rx\n",
              "encoding              FT8\n",
              "signal_strength       -13\n",
              "timedelay             0.1\n",
              "offset                103\n",
              "rxcall                 CQ\n",
              "txcall              W0WND\n",
              "message              DM97\n",
              "Name: 0, dtype: object"
            ]
          },
          "metadata": {},
          "execution_count": 6
        }
      ]
    },
    {
      "cell_type": "code",
      "metadata": {
        "id": "oV9971ar7v6J"
      },
      "source": [
        "import numpy as np\n",
        "dat = pandas_data['date'] \n",
        "year = np.zeros(np.array(dat).size)\n",
        "month = np.zeros(np.array(dat).size)\n",
        "day = np.zeros(np.array(dat).size)\n",
        "for i in range(np.array(dat).size):\n",
        "    year[i] = int(str(dat[i])[0:2]) \n",
        "    month[i] = int(str(dat[i])[2:4])\n",
        "    day[i] = int(str(dat[i])[4:6])"
      ],
      "execution_count": null,
      "outputs": []
    },
    {
      "cell_type": "code",
      "metadata": {
        "id": "5NVwG_fE8ADz"
      },
      "source": [
        "tim = pandas_data['time'] \n",
        "hour = np.zeros(np.array(tim).size)\n",
        "minutes = np.zeros(np.array(tim).size)\n",
        "seconds = np.zeros(np.array(tim).size)\n",
        "for i in range(np.array(tim).size): \n",
        "  if(len(str(tim[i]))== 6): \n",
        "    hour[i] = int(str(tim[i])[0:2]) \n",
        "    minutes[i] = int(str(tim[i])[2:4]) \n",
        "    seconds[i] = int(str(tim[i])[4:6])"
      ],
      "execution_count": null,
      "outputs": []
    },
    {
      "cell_type": "code",
      "metadata": {
        "id": "H6ie8wuFFjSb"
      },
      "source": [
        "base_freq = np.array(pandas_data['base'] ) \n",
        "#signal = np.array(pandas_data['signal_strength'][pandas_data['signal_strength'] < 25]) \n",
        "signal = np.array(pandas_data['signal_strength'])\n",
        "time_delay = np.array(pandas_data['timedelay'])\n",
        "freq_offset = np.array(pandas_data['offset']/1000)"
      ],
      "execution_count": null,
      "outputs": []
    },
    {
      "cell_type": "code",
      "metadata": {
        "id": "DmXHt7PJG81J"
      },
      "source": [
        "pandas_data_2 = pd.read_csv(\"gdrive/MyDrive/ham_data_2.csv\", encoding='latin-1') "
      ],
      "execution_count": null,
      "outputs": []
    },
    {
      "cell_type": "code",
      "metadata": {
        "colab": {
          "base_uri": "https://localhost:8080/",
          "height": 314
        },
        "id": "vdbdQi3087Js",
        "outputId": "97db89f9-3331-48af-e4c8-b9039725ef35"
      },
      "source": [
        "pandas_data_2.describe()"
      ],
      "execution_count": null,
      "outputs": [
        {
          "output_type": "execute_result",
          "data": {
            "text/html": [
              "<div>\n",
              "<style scoped>\n",
              "    .dataframe tbody tr th:only-of-type {\n",
              "        vertical-align: middle;\n",
              "    }\n",
              "\n",
              "    .dataframe tbody tr th {\n",
              "        vertical-align: top;\n",
              "    }\n",
              "\n",
              "    .dataframe thead th {\n",
              "        text-align: right;\n",
              "    }\n",
              "</style>\n",
              "<table border=\"1\" class=\"dataframe\">\n",
              "  <thead>\n",
              "    <tr style=\"text-align: right;\">\n",
              "      <th></th>\n",
              "      <th>Line</th>\n",
              "      <th>Date(yymmdd)</th>\n",
              "      <th>Date(yyymmdd)</th>\n",
              "      <th>Date(yyymmdd).1</th>\n",
              "      <th>Time(24)</th>\n",
              "      <th>Frequency(MHz)</th>\n",
              "      <th>Receive Strength</th>\n",
              "      <th>Delta Time</th>\n",
              "      <th>Frequency Offset (kHz)</th>\n",
              "    </tr>\n",
              "  </thead>\n",
              "  <tbody>\n",
              "    <tr>\n",
              "      <th>count</th>\n",
              "      <td>659914.000000</td>\n",
              "      <td>659914.000000</td>\n",
              "      <td>6.599140e+05</td>\n",
              "      <td>6.599140e+05</td>\n",
              "      <td>659914.000000</td>\n",
              "      <td>659914.000000</td>\n",
              "      <td>659914.000000</td>\n",
              "      <td>659914.000000</td>\n",
              "      <td>659914.000000</td>\n",
              "    </tr>\n",
              "    <tr>\n",
              "      <th>mean</th>\n",
              "      <td>329957.500000</td>\n",
              "      <td>210533.577539</td>\n",
              "      <td>2.021053e+07</td>\n",
              "      <td>2.021053e+07</td>\n",
              "      <td>197402.538488</td>\n",
              "      <td>16.992754</td>\n",
              "      <td>-7.284467</td>\n",
              "      <td>0.187027</td>\n",
              "      <td>1451.856948</td>\n",
              "    </tr>\n",
              "    <tr>\n",
              "      <th>std</th>\n",
              "      <td>190500.907108</td>\n",
              "      <td>70.635656</td>\n",
              "      <td>7.063566e+01</td>\n",
              "      <td>7.063566e+01</td>\n",
              "      <td>25507.488314</td>\n",
              "      <td>3.698477</td>\n",
              "      <td>9.156802</td>\n",
              "      <td>0.463300</td>\n",
              "      <td>682.661424</td>\n",
              "    </tr>\n",
              "    <tr>\n",
              "      <th>min</th>\n",
              "      <td>1.000000</td>\n",
              "      <td>210422.000000</td>\n",
              "      <td>2.021042e+07</td>\n",
              "      <td>2.021042e+07</td>\n",
              "      <td>0.000000</td>\n",
              "      <td>2.223000</td>\n",
              "      <td>-24.000000</td>\n",
              "      <td>-2.600000</td>\n",
              "      <td>98.000000</td>\n",
              "    </tr>\n",
              "    <tr>\n",
              "      <th>25%</th>\n",
              "      <td>164979.250000</td>\n",
              "      <td>210504.000000</td>\n",
              "      <td>2.021050e+07</td>\n",
              "      <td>2.021050e+07</td>\n",
              "      <td>182330.000000</td>\n",
              "      <td>14.074000</td>\n",
              "      <td>-14.000000</td>\n",
              "      <td>0.000000</td>\n",
              "      <td>900.000000</td>\n",
              "    </tr>\n",
              "    <tr>\n",
              "      <th>50%</th>\n",
              "      <td>329957.500000</td>\n",
              "      <td>210519.000000</td>\n",
              "      <td>2.021052e+07</td>\n",
              "      <td>2.021052e+07</td>\n",
              "      <td>201915.000000</td>\n",
              "      <td>18.100000</td>\n",
              "      <td>-8.000000</td>\n",
              "      <td>0.200000</td>\n",
              "      <td>1430.000000</td>\n",
              "    </tr>\n",
              "    <tr>\n",
              "      <th>75%</th>\n",
              "      <td>494935.750000</td>\n",
              "      <td>210608.000000</td>\n",
              "      <td>2.021061e+07</td>\n",
              "      <td>2.021061e+07</td>\n",
              "      <td>214015.000000</td>\n",
              "      <td>18.100000</td>\n",
              "      <td>-1.000000</td>\n",
              "      <td>0.400000</td>\n",
              "      <td>1983.000000</td>\n",
              "    </tr>\n",
              "    <tr>\n",
              "      <th>max</th>\n",
              "      <td>659914.000000</td>\n",
              "      <td>210625.000000</td>\n",
              "      <td>2.021062e+07</td>\n",
              "      <td>2.021062e+07</td>\n",
              "      <td>235952.000000</td>\n",
              "      <td>50.318000</td>\n",
              "      <td>77.000000</td>\n",
              "      <td>2.500000</td>\n",
              "      <td>3633.000000</td>\n",
              "    </tr>\n",
              "  </tbody>\n",
              "</table>\n",
              "</div>"
            ],
            "text/plain": [
              "                Line   Date(yymmdd)  ...     Delta Time  Frequency Offset (kHz)\n",
              "count  659914.000000  659914.000000  ...  659914.000000           659914.000000\n",
              "mean   329957.500000  210533.577539  ...       0.187027             1451.856948\n",
              "std    190500.907108      70.635656  ...       0.463300              682.661424\n",
              "min         1.000000  210422.000000  ...      -2.600000               98.000000\n",
              "25%    164979.250000  210504.000000  ...       0.000000              900.000000\n",
              "50%    329957.500000  210519.000000  ...       0.200000             1430.000000\n",
              "75%    494935.750000  210608.000000  ...       0.400000             1983.000000\n",
              "max    659914.000000  210625.000000  ...       2.500000             3633.000000\n",
              "\n",
              "[8 rows x 9 columns]"
            ]
          },
          "metadata": {},
          "execution_count": 11
        }
      ]
    },
    {
      "cell_type": "code",
      "metadata": {
        "id": "BqtidH8KFz6r"
      },
      "source": [
        "from sklearn import preprocessing \n",
        "\n",
        "X_processed_data = {'hour': hour.astype(int), 'minute': minutes.astype(int), 'seconds': seconds.astype(int),\n",
        "                  'rs' : signal, 'dt' : time_delay}\n",
        "\n"
      ],
      "execution_count": null,
      "outputs": []
    },
    {
      "cell_type": "code",
      "metadata": {
        "id": "nqog_aGWS-6j",
        "colab": {
          "base_uri": "https://localhost:8080/"
        },
        "outputId": "3691c571-b1f2-42fd-e514-6a1ad893b670"
      },
      "source": [
        "X = pd.DataFrame(X_processed_data)\n",
        "print('\\nprocessed inputs = \\n', X)\n",
        "\n"
      ],
      "execution_count": null,
      "outputs": [
        {
          "output_type": "stream",
          "name": "stdout",
          "text": [
            "\n",
            "processed inputs = \n",
            "         hour  minute  seconds  rs   dt\n",
            "0         16      41       45 -13  0.1\n",
            "1         16      42        0 -10  1.0\n",
            "2         16      42       15  -4  0.2\n",
            "3         16      42       15 -12  0.1\n",
            "4         16      42       15 -22  0.5\n",
            "...      ...     ...      ...  ..  ...\n",
            "659909    23      37       52  -7  0.6\n",
            "659910    23      37       52   3  0.3\n",
            "659911    23      38        0   0  0.0\n",
            "659912    23      37       52 -12  0.3\n",
            "659913    23      37       52  -5  0.6\n",
            "\n",
            "[659914 rows x 5 columns]\n"
          ]
        }
      ]
    },
    {
      "cell_type": "code",
      "metadata": {
        "colab": {
          "base_uri": "https://localhost:8080/"
        },
        "id": "C-LZo9lnd6RP",
        "outputId": "500383f7-7f7f-4a37-b074-0daed0660eef"
      },
      "source": [
        "from sklearn.model_selection import train_test_split \n",
        "from sklearn.tree import DecisionTreeClassifier\n",
        "\n",
        "y = base_freq.astype(str)\n",
        "\n",
        "X_train, X_test, y_train, y_test = train_test_split(X, y, test_size = 0.2)\n",
        "\n",
        "model = DecisionTreeClassifier() \n",
        "# model = DecisionTreeClassifier() #selection du modele voulu\n",
        "model.fit(X_train, y_train)"
      ],
      "execution_count": null,
      "outputs": [
        {
          "output_type": "execute_result",
          "data": {
            "text/plain": [
              "DecisionTreeClassifier()"
            ]
          },
          "metadata": {},
          "execution_count": 38
        }
      ]
    },
    {
      "cell_type": "code",
      "metadata": {
        "colab": {
          "base_uri": "https://localhost:8080/",
          "height": 1000
        },
        "id": "7XKQkQ3ilPKm",
        "outputId": "b65bedd6-d53e-4f45-adc0-1100cd32e5f2"
      },
      "source": [
        "predictions = model.predict(X_test)\n",
        "from sklearn.metrics import accuracy_score, confusion_matrix, ConfusionMatrixDisplay, classification_report\n",
        "cm = confusion_matrix(y_test, predictions, labels=model.classes_)\n",
        "cm\n",
        "\n",
        "print(classification_report(y_test, predictions, labels=model.classes_))\n",
        "disp = ConfusionMatrixDisplay(confusion_matrix=cm, display_labels=model.classes_)\n",
        "disp.plot()\n",
        "accuracy_score(predictions, y_test)"
      ],
      "execution_count": null,
      "outputs": [
        {
          "output_type": "stream",
          "name": "stderr",
          "text": [
            "/usr/local/lib/python3.7/dist-packages/sklearn/metrics/_classification.py:1308: UndefinedMetricWarning: Precision and F-score are ill-defined and being set to 0.0 in labels with no predicted samples. Use `zero_division` parameter to control this behavior.\n",
            "  _warn_prf(average, modifier, msg_start, len(result))\n",
            "/usr/local/lib/python3.7/dist-packages/sklearn/metrics/_classification.py:1308: UndefinedMetricWarning: Recall and F-score are ill-defined and being set to 0.0 in labels with no true samples. Use `zero_division` parameter to control this behavior.\n",
            "  _warn_prf(average, modifier, msg_start, len(result))\n",
            "/usr/local/lib/python3.7/dist-packages/sklearn/metrics/_classification.py:1308: UndefinedMetricWarning: Precision and F-score are ill-defined and being set to 0.0 in labels with no predicted samples. Use `zero_division` parameter to control this behavior.\n",
            "  _warn_prf(average, modifier, msg_start, len(result))\n",
            "/usr/local/lib/python3.7/dist-packages/sklearn/metrics/_classification.py:1308: UndefinedMetricWarning: Recall and F-score are ill-defined and being set to 0.0 in labels with no true samples. Use `zero_division` parameter to control this behavior.\n",
            "  _warn_prf(average, modifier, msg_start, len(result))\n",
            "/usr/local/lib/python3.7/dist-packages/sklearn/metrics/_classification.py:1308: UndefinedMetricWarning: Precision and F-score are ill-defined and being set to 0.0 in labels with no predicted samples. Use `zero_division` parameter to control this behavior.\n",
            "  _warn_prf(average, modifier, msg_start, len(result))\n",
            "/usr/local/lib/python3.7/dist-packages/sklearn/metrics/_classification.py:1308: UndefinedMetricWarning: Recall and F-score are ill-defined and being set to 0.0 in labels with no true samples. Use `zero_division` parameter to control this behavior.\n",
            "  _warn_prf(average, modifier, msg_start, len(result))\n"
          ]
        },
        {
          "output_type": "stream",
          "name": "stdout",
          "text": [
            "                    precision    recall  f1-score   support\n",
            "\n",
            "10.136000000000001       0.41      0.48      0.44      8330\n",
            "            10.137       0.31      0.27      0.29       204\n",
            "             10.14       0.10      0.05      0.07        19\n",
            "             14.07       0.00      0.00      0.00         1\n",
            "            14.071       0.00      0.00      0.00         0\n",
            "14.074000000000002       0.46      0.52      0.49     35856\n",
            "            14.075       0.73      0.71      0.72       108\n",
            "            14.079       0.37      0.36      0.36        70\n",
            "             14.08       0.60      0.58      0.59      5655\n",
            "              15.0       0.00      0.00      0.00         2\n",
            "             17.04       0.00      0.00      0.00         0\n",
            "            18.098       0.15      0.17      0.16       454\n",
            "            18.099       0.31      0.32      0.32       194\n",
            "              18.1       0.60      0.58      0.59     56077\n",
            "            18.102       0.00      0.00      0.00         0\n",
            "            18.104       0.20      0.12      0.15       194\n",
            "            18.127       0.00      0.00      0.00         0\n",
            "            18.139       0.00      0.00      0.00         0\n",
            "2.2230000000000003       0.00      0.00      0.00         2\n",
            "            21.073       0.00      0.00      0.00         1\n",
            "            21.074       0.36      0.30      0.33     21168\n",
            "            21.075       0.00      0.00      0.00         3\n",
            "            21.122       0.00      0.00      0.00         1\n",
            "             21.14       0.00      0.00      0.00         6\n",
            "            24.915       0.10      0.08      0.09       357\n",
            "27.541999999999998       0.00      0.00      0.00         2\n",
            "27.543000000000003       0.00      0.00      0.00         0\n",
            "            27.544       0.00      0.00      0.00         0\n",
            "            28.074       0.15      0.11      0.13      2373\n",
            "            28.495       0.43      0.37      0.40        81\n",
            "             3.573       0.00      0.00      0.00         6\n",
            "            50.313       0.32      0.21      0.26       216\n",
            "50.318000000000005       0.00      0.00      0.00         0\n",
            " 7.047999999999999       0.00      0.00      0.00         1\n",
            "             7.074       0.23      0.17      0.20       594\n",
            "             7.075       0.00      0.00      0.00         6\n",
            "             8.456       0.00      0.00      0.00         2\n",
            "\n",
            "         micro avg       0.50      0.50      0.50    131983\n",
            "         macro avg       0.16      0.15      0.15    131983\n",
            "      weighted avg       0.50      0.50      0.50    131983\n",
            "\n"
          ]
        },
        {
          "output_type": "execute_result",
          "data": {
            "text/plain": [
              "0.4987915110279354"
            ]
          },
          "metadata": {},
          "execution_count": 41
        },
        {
          "output_type": "display_data",
          "data": {
            "image/png": "[encoded data removed]",
            "text/plain": [
              "<Figure size 432x288 with 2 Axes>"
            ]
          },
          "metadata": {
            "needs_background": "light"
          }
        }
      ]
    }
  ]
}